{
 "cells": [
  {
   "cell_type": "markdown",
   "id": "f85c4027-8737-4b5b-a696-45094814deaf",
   "metadata": {},
   "source": [
    "# Python-Functions\n",
    "\n",
    "\n"
   ]
  },
  {
   "cell_type": "code",
   "execution_count": 3,
   "id": "b675de05-ac6e-4e55-beaa-a3a95f09f4ff",
   "metadata": {},
   "outputs": [
    {
     "name": "stdout",
     "output_type": "stream",
     "text": [
      "Length of the list: 5\n"
     ]
    }
   ],
   "source": [
    "# 1. Using len() function to find the length of a list\n",
    "numbers = [10, 20, 30, 40, 50]\n",
    "print(\"Length of the list:\", len(numbers))  "
   ]
  },
  {
   "cell_type": "code",
   "execution_count": 13,
   "id": "93ae855f-8155-4ff6-9f0f-9ea17ef15805",
   "metadata": {},
   "outputs": [
    {
     "name": "stdout",
     "output_type": "stream",
     "text": [
      "Hello, Silpa!\n"
     ]
    }
   ],
   "source": [
    "\n",
    "#Write a Python function greet(name) that takes a person's name as input and prints \"Hello, [name]!\".\n",
    "\n",
    "def greet(name):\n",
    "    \"\"\"Prints a greeting message with the given name.\"\"\"\n",
    "    print(f\"Hello, {name}!\")\n",
    "\n",
    "greet(\"Silpa\")"
   ]
  },
  {
   "cell_type": "code",
   "execution_count": 15,
   "id": "3ea19460-e78d-41b0-a298-2d87e6510b17",
   "metadata": {},
   "outputs": [
    {
     "name": "stdout",
     "output_type": "stream",
     "text": [
      "Maximum value: 9\n"
     ]
    }
   ],
   "source": [
    "# Write a Python function find_maximum(numbers) that takes a list of integers and returns the maximum value without using the built-in max() function. Use a loop to iterate through the list and compare values.\n",
    "def find_maximum(numbers):\n",
    "    \"\"\"Returns the maximum value from a list using a loop.\"\"\"\n",
    "    if not numbers:  # Check if the list is empty\n",
    "        return None\n",
    "    \n",
    "    max_value = numbers[0]  # Assume the first element is the largest\n",
    "    for num in numbers:\n",
    "        if num > max_value:\n",
    "            max_value = num  # Update max_value if a larger number is found\n",
    "    \n",
    "    return max_value\n",
    "\n",
    "# Example usage\n",
    "nums = [3, 7, 2, 9, 5]\n",
    "print(\"Maximum value:\", find_maximum(nums))  # Output: 9\n"
   ]
  },
  {
   "cell_type": "code",
   "execution_count": 17,
   "id": "59eb52d6-6b21-4d02-ada3-c9b943dba164",
   "metadata": {},
   "outputs": [
    {
     "name": "stdout",
     "output_type": "stream",
     "text": [
      "Inside function, x = 5\n",
      "Outside function, x = 10\n"
     ]
    }
   ],
   "source": [
    "# local and global variables \n",
    "x = 10  # Global variable\n",
    "\n",
    "def example():\n",
    "    x = 5  # Local variable (only exists inside this function)\n",
    "    print(\"Inside function, x =\", x)  # Output: 5\n",
    "\n",
    "example()\n",
    "print(\"Outside function, x =\", x)  # Output: 10"
   ]
  },
  {
   "cell_type": "code",
   "execution_count": 19,
   "id": "af537d39-e55c-4a15-a035-3912cefcea0a",
   "metadata": {},
   "outputs": [
    {
     "name": "stdout",
     "output_type": "stream",
     "text": [
      "Area with length 10 and width 6: 60\n",
      "Area with length 10: 50\n"
     ]
    }
   ],
   "source": [
    "# Create a function calculate_area(length, width=5) that calculates the area of a rectangle. If only the length is provided, the function should assume the width is 5. Show how the function behaves when called with and without the width argument.\n",
    "def calculate_area(length, width=5):\n",
    "    \"\"\"Returns the area of a rectangle. Default width is 5.\"\"\"\n",
    "    return length * width\n",
    "\n",
    "# Calling function with both length and width\n",
    "print(\"Area with length 10 and width 6:\", calculate_area(10, 6))  # Output: 60\n",
    "\n",
    "# Calling function with only length (default width used)\n",
    "print(\"Area with length 10:\", calculate_area(10))  # Output: 50"
   ]
  },
  {
   "cell_type": "code",
   "execution_count": null,
   "id": "4a39a63c-1670-4b44-8092-700e687496f8",
   "metadata": {},
   "outputs": [],
   "source": []
  }
 ],
 "metadata": {
  "kernelspec": {
   "display_name": "Python [conda env:base] *",
   "language": "python",
   "name": "conda-base-py"
  },
  "language_info": {
   "codemirror_mode": {
    "name": "ipython",
    "version": 3
   },
   "file_extension": ".py",
   "mimetype": "text/x-python",
   "name": "python",
   "nbconvert_exporter": "python",
   "pygments_lexer": "ipython3",
   "version": "3.12.7"
  }
 },
 "nbformat": 4,
 "nbformat_minor": 5
}
